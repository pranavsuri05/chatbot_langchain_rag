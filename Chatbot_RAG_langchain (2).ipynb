{
 "cells": [
  {
   "cell_type": "code",
   "execution_count": 1,
   "id": "3310c23f-b620-4dd0-878d-a7033b2ee9b8",
   "metadata": {
    "scrolled": true
   },
   "outputs": [],
   "source": [
    "from fastapi import FastAPI, UploadFile, File\n",
    "import fitz  # PyMuPDF\n",
    "import os\n",
    "from langchain.schema import Document\n",
    "from langchain.text_splitter import CharacterTextSplitter\n",
    "from langchain.embeddings import OpenAIEmbeddings\n",
    "from langchain.vectorstores import FAISS\n",
    "from langchain.chains import RetrievalQA\n",
    "from langchain_openai import OpenAI\n",
    "\n",
    "app = FastAPI()\n",
    "\n",
    "os.environ[\"OPENAI_API_KEY\"] = \"your-api-key-here\"\n",
    "qa_chain = None  # Initialize global variable"
   ]
  },
  {
   "cell_type": "code",
   "execution_count": 2,
   "id": "156ec594-40a7-4515-9a6f-3b7973a573d2",
   "metadata": {
    "scrolled": true
   },
   "outputs": [],
   "source": [
    "def extract_text_from_pdf(pdf_path):\n",
    "    \"\"\"Extract text from a PDF file.\"\"\"\n",
    "    pdf_document = fitz.open(pdf_path)\n",
    "    text = \"\"\n",
    "    for page_num in range(pdf_document.page_count):\n",
    "        page = pdf_document.load_page(page_num)\n",
    "        text += page.get_text()\n",
    "    return text\n",
    "\n",
    "@app.post(\"/upload-pdf/\")\n",
    "async def upload_pdf(file: UploadFile = File(...)):\n",
    "    \"\"\"Upload a PDF, extract text, process it, and set up the QA system.\"\"\"\n",
    "    global qa_chain\n",
    "    \n",
    "    # Save PDF Temporarily\n",
    "    file_path = f\"temp_{file.filename}\"\n",
    "    with open(file_path, \"wb\") as buffer:\n",
    "        buffer.write(await file.read())\n",
    "\n",
    "    # Extract Text\n",
    "    extracted_text = extract_text_from_pdf(file_path)\n",
    "    if not extracted_text.strip():\n",
    "        return {\"error\": \"PDF extraction failed. The text is empty.\"}\n",
    "\n",
    "    # Split Text into Chunks\n",
    "    documents = [Document(page_content=extracted_text)]\n",
    "    text_splitter = CharacterTextSplitter(chunk_size=500, chunk_overlap=100)\n",
    "    texts = text_splitter.split_documents(documents)\n",
    "\n",
    "    # Convert to FAISS Vector Store\n",
    "    embeddings = OpenAIEmbeddings()\n",
    "    vector_store = FAISS.from_documents(texts, embeddings)\n",
    "    retriever = vector_store.as_retriever()\n",
    "\n",
    "    # Initialize QA System\n",
    "    llm = OpenAI(openai_api_key=\"your-api-key-here\")\n",
    "    qa_chain = RetrievalQA.from_chain_type(llm=llm, chain_type=\"stuff\", retriever=retriever)\n",
    "\n",
    "    return {\n",
    "        \"message\": \"PDF uploaded and QA system is ready\",\n",
    "        \"text_preview\": extracted_text[:500],  # Show first 500 characters\n",
    "    }"
   ]
  },
  {
   "cell_type": "code",
   "execution_count": 3,
   "id": "113a9cb1-db99-4408-aa69-3e6dd5e14c47",
   "metadata": {
    "scrolled": true
   },
   "outputs": [],
   "source": [
    "@app.post(\"/ask-question/\")\n",
    "async def ask_question(query: str):\n",
    "    \"\"\"Answer user questions based on the uploaded PDF content.\"\"\"\n",
    "    if not qa_chain:\n",
    "        return {\"error\": \"No PDF uploaded. Please upload a PDF first.\"}\n",
    "    \n",
    "    answer = qa_chain.invoke(query)\n",
    "    return {\"query\": query, \"answer\": answer}"
   ]
  },
  {
   "cell_type": "code",
   "execution_count": null,
   "id": "7c1a83d7-704e-4de9-ab18-512c3b0a4819",
   "metadata": {
    "scrolled": true
   },
   "outputs": [],
   "source": [
    "import nest_asyncio\n",
    "import uvicorn\n",
    "\n",
    "nest_asyncio.apply()\n",
    "uvicorn.run(app, host=\"0.0.0.0\", port=8000)"
   ]
  }
 ],
 "metadata": {
  "kernelspec": {
   "display_name": "Python 3 (ipykernel)",
   "language": "python",
   "name": "python3"
  },
  "language_info": {
   "codemirror_mode": {
    "name": "ipython",
    "version": 3
   },
   "file_extension": ".py",
   "mimetype": "text/x-python",
   "name": "python",
   "nbconvert_exporter": "python",
   "pygments_lexer": "ipython3",
   "version": "3.12.4"
  }
 },
 "nbformat": 4,
 "nbformat_minor": 5
}
